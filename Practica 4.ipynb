{
 "cells": [
  {
   "cell_type": "markdown",
   "id": "cf5da56b",
   "metadata": {},
   "source": [
    "### Práctica Realizada por Óscar Calvet Sisó y Javier Alarcón Caracena"
   ]
  },
  {
   "cell_type": "code",
   "execution_count": 72,
   "id": "cb0630cb",
   "metadata": {},
   "outputs": [],
   "source": [
    "import pandas as pd"
   ]
  },
  {
   "cell_type": "code",
   "execution_count": 73,
   "id": "0b7da99a",
   "metadata": {},
   "outputs": [],
   "source": [
    "data = pd.read_csv('casos_diagnostico_ccaa.csv')"
   ]
  },
  {
   "cell_type": "code",
   "execution_count": 74,
   "id": "da7ff66f",
   "metadata": {},
   "outputs": [
    {
     "data": {
      "text/html": [
       "<div>\n",
       "<style scoped>\n",
       "    .dataframe tbody tr th:only-of-type {\n",
       "        vertical-align: middle;\n",
       "    }\n",
       "\n",
       "    .dataframe tbody tr th {\n",
       "        vertical-align: top;\n",
       "    }\n",
       "\n",
       "    .dataframe thead th {\n",
       "        text-align: right;\n",
       "    }\n",
       "</style>\n",
       "<table border=\"1\" class=\"dataframe\">\n",
       "  <thead>\n",
       "    <tr style=\"text-align: right;\">\n",
       "      <th></th>\n",
       "      <th>ccaa_iso</th>\n",
       "      <th>fecha</th>\n",
       "      <th>num_casos</th>\n",
       "      <th>num_casos_prueba_pcr</th>\n",
       "      <th>num_casos_prueba_test_ac</th>\n",
       "      <th>num_casos_prueba_ag</th>\n",
       "      <th>num_casos_prueba_elisa</th>\n",
       "      <th>num_casos_prueba_desconocida</th>\n",
       "    </tr>\n",
       "  </thead>\n",
       "  <tbody>\n",
       "    <tr>\n",
       "      <th>0</th>\n",
       "      <td>AN</td>\n",
       "      <td>2020-01-01</td>\n",
       "      <td>0</td>\n",
       "      <td>0</td>\n",
       "      <td>0</td>\n",
       "      <td>0</td>\n",
       "      <td>0</td>\n",
       "      <td>0</td>\n",
       "    </tr>\n",
       "    <tr>\n",
       "      <th>1</th>\n",
       "      <td>AR</td>\n",
       "      <td>2020-01-01</td>\n",
       "      <td>0</td>\n",
       "      <td>0</td>\n",
       "      <td>0</td>\n",
       "      <td>0</td>\n",
       "      <td>0</td>\n",
       "      <td>0</td>\n",
       "    </tr>\n",
       "    <tr>\n",
       "      <th>2</th>\n",
       "      <td>AS</td>\n",
       "      <td>2020-01-01</td>\n",
       "      <td>0</td>\n",
       "      <td>0</td>\n",
       "      <td>0</td>\n",
       "      <td>0</td>\n",
       "      <td>0</td>\n",
       "      <td>0</td>\n",
       "    </tr>\n",
       "    <tr>\n",
       "      <th>3</th>\n",
       "      <td>CB</td>\n",
       "      <td>2020-01-01</td>\n",
       "      <td>0</td>\n",
       "      <td>0</td>\n",
       "      <td>0</td>\n",
       "      <td>0</td>\n",
       "      <td>0</td>\n",
       "      <td>0</td>\n",
       "    </tr>\n",
       "    <tr>\n",
       "      <th>4</th>\n",
       "      <td>CE</td>\n",
       "      <td>2020-01-01</td>\n",
       "      <td>1</td>\n",
       "      <td>0</td>\n",
       "      <td>0</td>\n",
       "      <td>1</td>\n",
       "      <td>0</td>\n",
       "      <td>0</td>\n",
       "    </tr>\n",
       "  </tbody>\n",
       "</table>\n",
       "</div>"
      ],
      "text/plain": [
       "  ccaa_iso       fecha  num_casos  num_casos_prueba_pcr  \\\n",
       "0       AN  2020-01-01          0                     0   \n",
       "1       AR  2020-01-01          0                     0   \n",
       "2       AS  2020-01-01          0                     0   \n",
       "3       CB  2020-01-01          0                     0   \n",
       "4       CE  2020-01-01          1                     0   \n",
       "\n",
       "   num_casos_prueba_test_ac  num_casos_prueba_ag  num_casos_prueba_elisa  \\\n",
       "0                         0                    0                       0   \n",
       "1                         0                    0                       0   \n",
       "2                         0                    0                       0   \n",
       "3                         0                    0                       0   \n",
       "4                         0                    1                       0   \n",
       "\n",
       "   num_casos_prueba_desconocida  \n",
       "0                             0  \n",
       "1                             0  \n",
       "2                             0  \n",
       "3                             0  \n",
       "4                             0  "
      ]
     },
     "execution_count": 74,
     "metadata": {},
     "output_type": "execute_result"
    }
   ],
   "source": [
    "data.head()"
   ]
  },
  {
   "cell_type": "markdown",
   "id": "b519b05c",
   "metadata": {},
   "source": [
    "## Cambiar nombre de las variables"
   ]
  },
  {
   "cell_type": "code",
   "execution_count": 60,
   "id": "3523874c",
   "metadata": {},
   "outputs": [],
   "source": [
    "data = data.rename(columns={'ccaa_iso': 'Comunidad Autónoma', 'fecha' : 'Fecha', 'num_casos' : 'Nº de casos', \n",
    "                           'num_casos_prueba_pcr' : 'PCRs', 'num_casos_prueba_test_ac' : 'Prueba anticuerpos', \n",
    "                           'num_casos_prueba_ag' : 'Prueba antígenos', 'num_casos_prueba_elisa' : 'Prueba ELISA',\n",
    "                           'num_casos_prueba_desconocida' : 'Prueba desconocida'})"
   ]
  },
  {
   "cell_type": "code",
   "execution_count": 61,
   "id": "02e09add",
   "metadata": {},
   "outputs": [
    {
     "data": {
      "text/html": [
       "<div>\n",
       "<style scoped>\n",
       "    .dataframe tbody tr th:only-of-type {\n",
       "        vertical-align: middle;\n",
       "    }\n",
       "\n",
       "    .dataframe tbody tr th {\n",
       "        vertical-align: top;\n",
       "    }\n",
       "\n",
       "    .dataframe thead th {\n",
       "        text-align: right;\n",
       "    }\n",
       "</style>\n",
       "<table border=\"1\" class=\"dataframe\">\n",
       "  <thead>\n",
       "    <tr style=\"text-align: right;\">\n",
       "      <th></th>\n",
       "      <th>Comunidad Autónoma</th>\n",
       "      <th>Fecha</th>\n",
       "      <th>Nº de casos</th>\n",
       "      <th>PCRs</th>\n",
       "      <th>Prueba anticuerpos</th>\n",
       "      <th>Prueba antígenos</th>\n",
       "      <th>Prueba ELISA</th>\n",
       "      <th>Prueba desconocida</th>\n",
       "    </tr>\n",
       "  </thead>\n",
       "  <tbody>\n",
       "    <tr>\n",
       "      <th>0</th>\n",
       "      <td>AN</td>\n",
       "      <td>2020-01-01</td>\n",
       "      <td>0</td>\n",
       "      <td>0</td>\n",
       "      <td>0</td>\n",
       "      <td>0</td>\n",
       "      <td>0</td>\n",
       "      <td>0</td>\n",
       "    </tr>\n",
       "    <tr>\n",
       "      <th>1</th>\n",
       "      <td>AR</td>\n",
       "      <td>2020-01-01</td>\n",
       "      <td>0</td>\n",
       "      <td>0</td>\n",
       "      <td>0</td>\n",
       "      <td>0</td>\n",
       "      <td>0</td>\n",
       "      <td>0</td>\n",
       "    </tr>\n",
       "    <tr>\n",
       "      <th>2</th>\n",
       "      <td>AS</td>\n",
       "      <td>2020-01-01</td>\n",
       "      <td>0</td>\n",
       "      <td>0</td>\n",
       "      <td>0</td>\n",
       "      <td>0</td>\n",
       "      <td>0</td>\n",
       "      <td>0</td>\n",
       "    </tr>\n",
       "    <tr>\n",
       "      <th>3</th>\n",
       "      <td>CB</td>\n",
       "      <td>2020-01-01</td>\n",
       "      <td>0</td>\n",
       "      <td>0</td>\n",
       "      <td>0</td>\n",
       "      <td>0</td>\n",
       "      <td>0</td>\n",
       "      <td>0</td>\n",
       "    </tr>\n",
       "    <tr>\n",
       "      <th>4</th>\n",
       "      <td>CE</td>\n",
       "      <td>2020-01-01</td>\n",
       "      <td>1</td>\n",
       "      <td>0</td>\n",
       "      <td>0</td>\n",
       "      <td>1</td>\n",
       "      <td>0</td>\n",
       "      <td>0</td>\n",
       "    </tr>\n",
       "  </tbody>\n",
       "</table>\n",
       "</div>"
      ],
      "text/plain": [
       "  Comunidad Autónoma       Fecha  Nº de casos  PCRs  Prueba anticuerpos  \\\n",
       "0                 AN  2020-01-01            0     0                   0   \n",
       "1                 AR  2020-01-01            0     0                   0   \n",
       "2                 AS  2020-01-01            0     0                   0   \n",
       "3                 CB  2020-01-01            0     0                   0   \n",
       "4                 CE  2020-01-01            1     0                   0   \n",
       "\n",
       "   Prueba antígenos  Prueba ELISA  Prueba desconocida  \n",
       "0                 0             0                   0  \n",
       "1                 0             0                   0  \n",
       "2                 0             0                   0  \n",
       "3                 0             0                   0  \n",
       "4                 1             0                   0  "
      ]
     },
     "execution_count": 61,
     "metadata": {},
     "output_type": "execute_result"
    }
   ],
   "source": [
    "data.head()"
   ]
  },
  {
   "cell_type": "markdown",
   "id": "dcf80094",
   "metadata": {},
   "source": [
    "## Sustituir siglas CCAA"
   ]
  },
  {
   "cell_type": "code",
   "execution_count": 62,
   "id": "85f08def",
   "metadata": {},
   "outputs": [],
   "source": [
    "def sigla_to_name(x):\n",
    "    match x:\n",
    "        case 'AN':\n",
    "            return 'Andalucía'\n",
    "        case 'GA':\n",
    "            return 'Galicia'\n",
    "        case 'RI':\n",
    "            return 'La Rioja (Spain)'\n",
    "        case 'PV':\n",
    "            return 'País Vasco'\n",
    "        case 'NC':\n",
    "            return 'Comunidad Foral de Navarra'\n",
    "        case 'ML':\n",
    "            return 'Melilla'\n",
    "        case 'MD':\n",
    "            return 'Comunidad de Madrid'\n",
    "        case 'MC':\n",
    "            return 'Región de Murcia'\n",
    "        case 'IB':\n",
    "            return 'Islas Baleares'\n",
    "        case 'EX':\n",
    "            return 'Extremadura'\n",
    "        case 'AR':\n",
    "            return 'Aragón'\n",
    "        case 'CT':\n",
    "            return 'Cataluña'\n",
    "        case 'CN':\n",
    "            return 'Canarias'\n",
    "        case 'CM':\n",
    "            return 'Castilla-La Mancha'\n",
    "        case 'CL':\n",
    "            return 'Castilla y León'\n",
    "        case 'CE':\n",
    "            return 'Ceuta'\n",
    "        case 'CB':\n",
    "            return 'Cantabria'\n",
    "        case 'AS':\n",
    "            return 'Principado de Asturias'\n",
    "        case 'VC':\n",
    "            return 'Comunidad Valenciana'"
   ]
  },
  {
   "cell_type": "code",
   "execution_count": 63,
   "id": "3c011a60",
   "metadata": {},
   "outputs": [],
   "source": [
    "data['Comunidad Autónoma'] = data['Comunidad Autónoma'].apply(sigla_to_name)"
   ]
  },
  {
   "cell_type": "code",
   "execution_count": 64,
   "id": "a163255f",
   "metadata": {},
   "outputs": [
    {
     "data": {
      "text/html": [
       "<div>\n",
       "<style scoped>\n",
       "    .dataframe tbody tr th:only-of-type {\n",
       "        vertical-align: middle;\n",
       "    }\n",
       "\n",
       "    .dataframe tbody tr th {\n",
       "        vertical-align: top;\n",
       "    }\n",
       "\n",
       "    .dataframe thead th {\n",
       "        text-align: right;\n",
       "    }\n",
       "</style>\n",
       "<table border=\"1\" class=\"dataframe\">\n",
       "  <thead>\n",
       "    <tr style=\"text-align: right;\">\n",
       "      <th></th>\n",
       "      <th>Comunidad Autónoma</th>\n",
       "      <th>Fecha</th>\n",
       "      <th>Nº de casos</th>\n",
       "      <th>PCRs</th>\n",
       "      <th>Prueba anticuerpos</th>\n",
       "      <th>Prueba antígenos</th>\n",
       "      <th>Prueba ELISA</th>\n",
       "      <th>Prueba desconocida</th>\n",
       "    </tr>\n",
       "  </thead>\n",
       "  <tbody>\n",
       "    <tr>\n",
       "      <th>0</th>\n",
       "      <td>Andalucía</td>\n",
       "      <td>2020-01-01</td>\n",
       "      <td>0</td>\n",
       "      <td>0</td>\n",
       "      <td>0</td>\n",
       "      <td>0</td>\n",
       "      <td>0</td>\n",
       "      <td>0</td>\n",
       "    </tr>\n",
       "    <tr>\n",
       "      <th>1</th>\n",
       "      <td>Aragón</td>\n",
       "      <td>2020-01-01</td>\n",
       "      <td>0</td>\n",
       "      <td>0</td>\n",
       "      <td>0</td>\n",
       "      <td>0</td>\n",
       "      <td>0</td>\n",
       "      <td>0</td>\n",
       "    </tr>\n",
       "    <tr>\n",
       "      <th>2</th>\n",
       "      <td>Principado de Asturias</td>\n",
       "      <td>2020-01-01</td>\n",
       "      <td>0</td>\n",
       "      <td>0</td>\n",
       "      <td>0</td>\n",
       "      <td>0</td>\n",
       "      <td>0</td>\n",
       "      <td>0</td>\n",
       "    </tr>\n",
       "    <tr>\n",
       "      <th>3</th>\n",
       "      <td>Cantabria</td>\n",
       "      <td>2020-01-01</td>\n",
       "      <td>0</td>\n",
       "      <td>0</td>\n",
       "      <td>0</td>\n",
       "      <td>0</td>\n",
       "      <td>0</td>\n",
       "      <td>0</td>\n",
       "    </tr>\n",
       "    <tr>\n",
       "      <th>4</th>\n",
       "      <td>Ceuta</td>\n",
       "      <td>2020-01-01</td>\n",
       "      <td>1</td>\n",
       "      <td>0</td>\n",
       "      <td>0</td>\n",
       "      <td>1</td>\n",
       "      <td>0</td>\n",
       "      <td>0</td>\n",
       "    </tr>\n",
       "  </tbody>\n",
       "</table>\n",
       "</div>"
      ],
      "text/plain": [
       "       Comunidad Autónoma       Fecha  Nº de casos  PCRs  Prueba anticuerpos  \\\n",
       "0               Andalucía  2020-01-01            0     0                   0   \n",
       "1                  Aragón  2020-01-01            0     0                   0   \n",
       "2  Principado de Asturias  2020-01-01            0     0                   0   \n",
       "3               Cantabria  2020-01-01            0     0                   0   \n",
       "4                   Ceuta  2020-01-01            1     0                   0   \n",
       "\n",
       "   Prueba antígenos  Prueba ELISA  Prueba desconocida  \n",
       "0                 0             0                   0  \n",
       "1                 0             0                   0  \n",
       "2                 0             0                   0  \n",
       "3                 0             0                   0  \n",
       "4                 1             0                   0  "
      ]
     },
     "execution_count": 64,
     "metadata": {},
     "output_type": "execute_result"
    }
   ],
   "source": [
    "data.head()"
   ]
  },
  {
   "cell_type": "markdown",
   "id": "8ff6de14",
   "metadata": {},
   "source": [
    "## Eliminar datos que no aportan valor a la serie"
   ]
  },
  {
   "cell_type": "code",
   "execution_count": 65,
   "id": "59cffbf7",
   "metadata": {},
   "outputs": [
    {
     "data": {
      "text/html": [
       "<div>\n",
       "<style scoped>\n",
       "    .dataframe tbody tr th:only-of-type {\n",
       "        vertical-align: middle;\n",
       "    }\n",
       "\n",
       "    .dataframe tbody tr th {\n",
       "        vertical-align: top;\n",
       "    }\n",
       "\n",
       "    .dataframe thead th {\n",
       "        text-align: right;\n",
       "    }\n",
       "</style>\n",
       "<table border=\"1\" class=\"dataframe\">\n",
       "  <thead>\n",
       "    <tr style=\"text-align: right;\">\n",
       "      <th></th>\n",
       "      <th>Nº de casos</th>\n",
       "      <th>PCRs</th>\n",
       "      <th>Prueba anticuerpos</th>\n",
       "      <th>Prueba antígenos</th>\n",
       "      <th>Prueba ELISA</th>\n",
       "      <th>Prueba desconocida</th>\n",
       "    </tr>\n",
       "  </thead>\n",
       "  <tbody>\n",
       "    <tr>\n",
       "      <th>count</th>\n",
       "      <td>7429.000000</td>\n",
       "      <td>7429.000000</td>\n",
       "      <td>7429.000000</td>\n",
       "      <td>7429.000000</td>\n",
       "      <td>7429.000000</td>\n",
       "      <td>7429.000000</td>\n",
       "    </tr>\n",
       "    <tr>\n",
       "      <th>mean</th>\n",
       "      <td>350.027998</td>\n",
       "      <td>289.335981</td>\n",
       "      <td>0.641405</td>\n",
       "      <td>59.247543</td>\n",
       "      <td>0.496971</td>\n",
       "      <td>0.306098</td>\n",
       "    </tr>\n",
       "    <tr>\n",
       "      <th>std</th>\n",
       "      <td>757.003131</td>\n",
       "      <td>616.519879</td>\n",
       "      <td>4.487353</td>\n",
       "      <td>238.479411</td>\n",
       "      <td>3.619920</td>\n",
       "      <td>2.450147</td>\n",
       "    </tr>\n",
       "    <tr>\n",
       "      <th>min</th>\n",
       "      <td>0.000000</td>\n",
       "      <td>0.000000</td>\n",
       "      <td>0.000000</td>\n",
       "      <td>0.000000</td>\n",
       "      <td>0.000000</td>\n",
       "      <td>0.000000</td>\n",
       "    </tr>\n",
       "    <tr>\n",
       "      <th>25%</th>\n",
       "      <td>4.000000</td>\n",
       "      <td>3.000000</td>\n",
       "      <td>0.000000</td>\n",
       "      <td>0.000000</td>\n",
       "      <td>0.000000</td>\n",
       "      <td>0.000000</td>\n",
       "    </tr>\n",
       "    <tr>\n",
       "      <th>50%</th>\n",
       "      <td>63.000000</td>\n",
       "      <td>58.000000</td>\n",
       "      <td>0.000000</td>\n",
       "      <td>0.000000</td>\n",
       "      <td>0.000000</td>\n",
       "      <td>0.000000</td>\n",
       "    </tr>\n",
       "    <tr>\n",
       "      <th>75%</th>\n",
       "      <td>328.000000</td>\n",
       "      <td>292.000000</td>\n",
       "      <td>0.000000</td>\n",
       "      <td>8.000000</td>\n",
       "      <td>0.000000</td>\n",
       "      <td>0.000000</td>\n",
       "    </tr>\n",
       "    <tr>\n",
       "      <th>max</th>\n",
       "      <td>7011.000000</td>\n",
       "      <td>6726.000000</td>\n",
       "      <td>96.000000</td>\n",
       "      <td>3411.000000</td>\n",
       "      <td>86.000000</td>\n",
       "      <td>68.000000</td>\n",
       "    </tr>\n",
       "  </tbody>\n",
       "</table>\n",
       "</div>"
      ],
      "text/plain": [
       "       Nº de casos         PCRs  Prueba anticuerpos  Prueba antígenos  \\\n",
       "count  7429.000000  7429.000000         7429.000000       7429.000000   \n",
       "mean    350.027998   289.335981            0.641405         59.247543   \n",
       "std     757.003131   616.519879            4.487353        238.479411   \n",
       "min       0.000000     0.000000            0.000000          0.000000   \n",
       "25%       4.000000     3.000000            0.000000          0.000000   \n",
       "50%      63.000000    58.000000            0.000000          0.000000   \n",
       "75%     328.000000   292.000000            0.000000          8.000000   \n",
       "max    7011.000000  6726.000000           96.000000       3411.000000   \n",
       "\n",
       "       Prueba ELISA  Prueba desconocida  \n",
       "count   7429.000000         7429.000000  \n",
       "mean       0.496971            0.306098  \n",
       "std        3.619920            2.450147  \n",
       "min        0.000000            0.000000  \n",
       "25%        0.000000            0.000000  \n",
       "50%        0.000000            0.000000  \n",
       "75%        0.000000            0.000000  \n",
       "max       86.000000           68.000000  "
      ]
     },
     "execution_count": 65,
     "metadata": {},
     "output_type": "execute_result"
    }
   ],
   "source": [
    "data.describe()"
   ]
  },
  {
   "cell_type": "markdown",
   "id": "d5073a7a",
   "metadata": {},
   "source": [
    "Vemos que todas las columnas tienen valores distintos de cero."
   ]
  },
  {
   "cell_type": "markdown",
   "id": "4ce29d82",
   "metadata": {},
   "source": [
    "Ver si hay valores que faltan."
   ]
  },
  {
   "cell_type": "code",
   "execution_count": 66,
   "id": "4d979a32",
   "metadata": {},
   "outputs": [
    {
     "data": {
      "text/plain": [
       "Comunidad Autónoma    False\n",
       "Fecha                 False\n",
       "Nº de casos           False\n",
       "PCRs                  False\n",
       "Prueba anticuerpos    False\n",
       "Prueba antígenos      False\n",
       "Prueba ELISA          False\n",
       "Prueba desconocida    False\n",
       "dtype: bool"
      ]
     },
     "execution_count": 66,
     "metadata": {},
     "output_type": "execute_result"
    }
   ],
   "source": [
    "data.isna().any()"
   ]
  },
  {
   "cell_type": "markdown",
   "id": "f8491079",
   "metadata": {},
   "source": [
    "Ver si hay duplicados"
   ]
  },
  {
   "cell_type": "code",
   "execution_count": 67,
   "id": "289004a5",
   "metadata": {},
   "outputs": [
    {
     "data": {
      "text/plain": [
       "False"
      ]
     },
     "execution_count": 67,
     "metadata": {},
     "output_type": "execute_result"
    }
   ],
   "source": [
    "data.duplicated().any()"
   ]
  },
  {
   "cell_type": "markdown",
   "id": "5638b89a",
   "metadata": {},
   "source": [
    "No hay duplicados."
   ]
  },
  {
   "cell_type": "markdown",
   "id": "0723d1f2",
   "metadata": {},
   "source": [
    "## Adaptar los datos a su tipología"
   ]
  },
  {
   "cell_type": "code",
   "execution_count": 68,
   "id": "329783b0",
   "metadata": {},
   "outputs": [
    {
     "data": {
      "text/plain": [
       "Comunidad Autónoma    object\n",
       "Fecha                 object\n",
       "Nº de casos            int64\n",
       "PCRs                   int64\n",
       "Prueba anticuerpos     int64\n",
       "Prueba antígenos       int64\n",
       "Prueba ELISA           int64\n",
       "Prueba desconocida     int64\n",
       "dtype: object"
      ]
     },
     "execution_count": 68,
     "metadata": {},
     "output_type": "execute_result"
    }
   ],
   "source": [
    "data.dtypes"
   ]
  },
  {
   "cell_type": "markdown",
   "id": "9ddefd2c",
   "metadata": {},
   "source": [
    "Todo bien salvo la Comunidad Autónoma y la fecha."
   ]
  },
  {
   "cell_type": "code",
   "execution_count": 71,
   "id": "5c6ae500",
   "metadata": {},
   "outputs": [
    {
     "data": {
      "text/plain": [
       "Comunidad Autónoma    string\n",
       "Fecha                 string\n",
       "Nº de casos            int64\n",
       "PCRs                   int64\n",
       "Prueba anticuerpos     int64\n",
       "Prueba antígenos       int64\n",
       "Prueba ELISA           int64\n",
       "Prueba desconocida     int64\n",
       "dtype: object"
      ]
     },
     "execution_count": 71,
     "metadata": {},
     "output_type": "execute_result"
    }
   ],
   "source": [
    "data.astype({'Comunidad Autónoma': 'string', 'Fecha' : 'string'}).dtypes"
   ]
  },
  {
   "cell_type": "markdown",
   "id": "7aec8703",
   "metadata": {},
   "source": [
    "Guardamos el dataset en fomato excel."
   ]
  },
  {
   "cell_type": "code",
   "execution_count": 70,
   "id": "c8535e35",
   "metadata": {},
   "outputs": [],
   "source": [
    "data.to_excel('covid_prepro.xlsx')"
   ]
  }
 ],
 "metadata": {
  "kernelspec": {
   "display_name": "Python 3 (ipykernel)",
   "language": "python",
   "name": "python3"
  },
  "language_info": {
   "codemirror_mode": {
    "name": "ipython",
    "version": 3
   },
   "file_extension": ".py",
   "mimetype": "text/x-python",
   "name": "python",
   "nbconvert_exporter": "python",
   "pygments_lexer": "ipython3",
   "version": "3.10.6"
  }
 },
 "nbformat": 4,
 "nbformat_minor": 5
}
